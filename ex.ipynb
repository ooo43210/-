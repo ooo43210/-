{
  "nbformat": 4,
  "nbformat_minor": 0,
  "metadata": {
    "colab": {
      "provenance": [],
      "authorship_tag": "ABX9TyNg1WGUPJd/vxT+gMHjg7MX",
      "include_colab_link": true
    },
    "kernelspec": {
      "name": "python3",
      "display_name": "Python 3"
    },
    "language_info": {
      "name": "python"
    }
  },
  "cells": [
    {
      "cell_type": "markdown",
      "metadata": {
        "id": "view-in-github",
        "colab_type": "text"
      },
      "source": [
        "<a href=\"https://colab.research.google.com/github/ooo43210/-/blob/main/ex.ipynb\" target=\"_parent\"><img src=\"https://colab.research.google.com/assets/colab-badge.svg\" alt=\"Open In Colab\"/></a>"
      ]
    },
    {
      "cell_type": "code",
      "execution_count": null,
      "metadata": {
        "id": "Fig9-wDan_Fs"
      },
      "outputs": [],
      "source": [
        "import numpy as np"
      ]
    },
    {
      "cell_type": "code",
      "source": [
        "def print_val(x):\n",
        "  print (\"Type:\",type(x))\n",
        "  print (\"Shape:\",x.shape)\n",
        "  print (\"값:\\n\", x)\n",
        "  print (\" \")"
      ],
      "metadata": {
        "id": "VAOraYjuxOIJ"
      },
      "execution_count": null,
      "outputs": []
    },
    {
      "cell_type": "code",
      "source": [
        "  x = np.array([1,2,3])\n",
        "  print_val(x)"
      ],
      "metadata": {
        "colab": {
          "base_uri": "https://localhost:8080/"
        },
        "id": "qw60vK5Sxn-Z",
        "outputId": "aecd7aa6-b745-4a07-9a60-697bf5231a6a"
      },
      "execution_count": null,
      "outputs": [
        {
          "output_type": "stream",
          "name": "stdout",
          "text": [
            "Type: <class 'numpy.ndarray'>\n",
            "Shape: (3,)\n",
            "값:\n",
            " [1 2 3]\n",
            " \n"
          ]
        }
      ]
    },
    {
      "cell_type": "code",
      "source": [
        "from google.colab import drive\n",
        "drive.mount('/content/drive')"
      ],
      "metadata": {
        "id": "U2o31TH7uqmf"
      },
      "execution_count": null,
      "outputs": []
    },
    {
      "cell_type": "code",
      "source": [
        "x[0]=5\n",
        "print_val(x)"
      ],
      "metadata": {
        "colab": {
          "base_uri": "https://localhost:8080/"
        },
        "id": "C2D6KBxl0Trg",
        "outputId": "2c20f295-ecde-490a-b100-1c8e3be86fc1"
      },
      "execution_count": null,
      "outputs": [
        {
          "output_type": "stream",
          "name": "stdout",
          "text": [
            "Type: <class 'numpy.ndarray'>\n",
            "Shape: (3,)\n",
            "값:\n",
            " [5 2 3]\n",
            " \n"
          ]
        }
      ]
    },
    {
      "cell_type": "code",
      "source": [
        "y = np.array([[1,2,3],[4,5,6]])\n",
        "print_val(y)"
      ],
      "metadata": {
        "colab": {
          "base_uri": "https://localhost:8080/"
        },
        "id": "ttyMj8QB0bBC",
        "outputId": "d2e1a749-8bb5-442e-9d15-57c4f9ca22cc"
      },
      "execution_count": null,
      "outputs": [
        {
          "output_type": "stream",
          "name": "stdout",
          "text": [
            "Type: <class 'numpy.ndarray'>\n",
            "Shape: (2, 3)\n",
            "값:\n",
            " [[1 2 3]\n",
            " [4 5 6]]\n",
            " \n"
          ]
        }
      ]
    },
    {
      "cell_type": "code",
      "source": [
        "a = np.zeros((2,2))\n",
        "print_val(a)"
      ],
      "metadata": {
        "colab": {
          "base_uri": "https://localhost:8080/"
        },
        "id": "SjWeEpXY0q6y",
        "outputId": "3e532133-feaf-4757-eb56-3adb371fc9e9"
      },
      "execution_count": null,
      "outputs": [
        {
          "output_type": "stream",
          "name": "stdout",
          "text": [
            "Type: <class 'numpy.ndarray'>\n",
            "Shape: (2, 2)\n",
            "값:\n",
            " [[0. 0.]\n",
            " [0. 0.]]\n",
            " \n"
          ]
        }
      ]
    },
    {
      "cell_type": "code",
      "source": [
        "a = np.ones((3,2))\n",
        "print_val(a)"
      ],
      "metadata": {
        "colab": {
          "base_uri": "https://localhost:8080/"
        },
        "id": "EJePED1_0z0Z",
        "outputId": "48f33e46-9768-4d5c-e388-aa47aad7e54c"
      },
      "execution_count": null,
      "outputs": [
        {
          "output_type": "stream",
          "name": "stdout",
          "text": [
            "Type: <class 'numpy.ndarray'>\n",
            "Shape: (3, 2)\n",
            "값:\n",
            " [[1. 1.]\n",
            " [1. 1.]\n",
            " [1. 1.]]\n",
            " \n"
          ]
        }
      ]
    },
    {
      "cell_type": "code",
      "source": [
        "a = np.eye(3,3)\n",
        "print_val(a)"
      ],
      "metadata": {
        "colab": {
          "base_uri": "https://localhost:8080/"
        },
        "id": "-S0ymcl7041d",
        "outputId": "dc37eab7-a98d-47de-d52a-2386f5f4ade3"
      },
      "execution_count": null,
      "outputs": [
        {
          "output_type": "stream",
          "name": "stdout",
          "text": [
            "Type: <class 'numpy.ndarray'>\n",
            "Shape: (3, 3)\n",
            "값:\n",
            " [[1. 0. 0.]\n",
            " [0. 1. 0.]\n",
            " [0. 0. 1.]]\n",
            " \n"
          ]
        }
      ]
    },
    {
      "cell_type": "code",
      "source": [
        "a = np.random.random((4,4))\n",
        "print_val(a)"
      ],
      "metadata": {
        "colab": {
          "base_uri": "https://localhost:8080/"
        },
        "id": "sCOksHrw14BA",
        "outputId": "abe27967-f5d6-4d14-e2f1-8b84269bae0c"
      },
      "execution_count": null,
      "outputs": [
        {
          "output_type": "stream",
          "name": "stdout",
          "text": [
            "Type: <class 'numpy.ndarray'>\n",
            "Shape: (4, 4)\n",
            "값:\n",
            " [[0.99674011 0.40809241 0.41276209 0.44694657]\n",
            " [0.08067138 0.74674578 0.49997822 0.24107987]\n",
            " [0.03064634 0.11496576 0.61829427 0.83988001]\n",
            " [0.94208345 0.77096032 0.58404289 0.79242174]]\n",
            " \n"
          ]
        }
      ]
    },
    {
      "cell_type": "code",
      "source": [
        "a = np.random.randn(4,4)\n",
        "print_val(a)"
      ],
      "metadata": {
        "colab": {
          "base_uri": "https://localhost:8080/"
        },
        "id": "5WO7geic2Ejx",
        "outputId": "d26b6562-055d-4185-c920-97ea1fb4e834"
      },
      "execution_count": null,
      "outputs": [
        {
          "output_type": "stream",
          "name": "stdout",
          "text": [
            "Type: <class 'numpy.ndarray'>\n",
            "Shape: (4, 4)\n",
            "값:\n",
            " [[ 0.71808247  0.28467998  0.39390832  1.22347476]\n",
            " [-2.13280587  1.12614478 -0.17722876 -0.55913617]\n",
            " [ 0.55137279 -1.10952798 -0.46261646 -0.0238469 ]\n",
            " [ 0.02538171 -1.25260624 -2.33693531  0.62315087]]\n",
            " \n"
          ]
        }
      ]
    },
    {
      "cell_type": "code",
      "source": [
        "a = np.array([[1,2,3,4],[5,6,7,8],[9,10,11,12]])\n",
        "print_val(a)"
      ],
      "metadata": {
        "colab": {
          "base_uri": "https://localhost:8080/"
        },
        "id": "xy1cVgjX2MiO",
        "outputId": "104c2cdc-bd88-437f-85cd-61f6ca868141"
      },
      "execution_count": null,
      "outputs": [
        {
          "output_type": "stream",
          "name": "stdout",
          "text": [
            "Type: <class 'numpy.ndarray'>\n",
            "Shape: (3, 4)\n",
            "값:\n",
            " [[ 1  2  3  4]\n",
            " [ 5  6  7  8]\n",
            " [ 9 10 11 12]]\n",
            " \n"
          ]
        }
      ]
    },
    {
      "cell_type": "code",
      "source": [
        "b = a[:2,1:3]\n",
        "print_val(b)"
      ],
      "metadata": {
        "colab": {
          "base_uri": "https://localhost:8080/"
        },
        "id": "_xf3ocYR2dft",
        "outputId": "7a32db8e-f2e6-43c0-ce30-d57976062c1d"
      },
      "execution_count": null,
      "outputs": [
        {
          "output_type": "stream",
          "name": "stdout",
          "text": [
            "Type: <class 'numpy.ndarray'>\n",
            "Shape: (2, 2)\n",
            "값:\n",
            " [[2 3]\n",
            " [6 7]]\n",
            " \n"
          ]
        }
      ]
    },
    {
      "cell_type": "code",
      "source": [
        "row1=a[1, : ]\n",
        "print_val(row1)"
      ],
      "metadata": {
        "colab": {
          "base_uri": "https://localhost:8080/"
        },
        "id": "XwyDREO-3jCU",
        "outputId": "70cbda28-bd02-4dbe-c5ef-c48abde53394"
      },
      "execution_count": null,
      "outputs": [
        {
          "output_type": "stream",
          "name": "stdout",
          "text": [
            "Type: <class 'numpy.ndarray'>\n",
            "Shape: (4,)\n",
            "값:\n",
            " [5 6 7 8]\n",
            " \n"
          ]
        }
      ]
    },
    {
      "cell_type": "code",
      "source": [
        "m1 = np.array([[1,2],[3,4]],dtype=np.float64)\n",
        "m2 = np.array([[5,6],[7,8]],dtype=np.float64)"
      ],
      "metadata": {
        "id": "mR5lEo9h3x1e"
      },
      "execution_count": null,
      "outputs": []
    },
    {
      "cell_type": "code",
      "source": [
        "print_val(m1+m2)\n",
        "print_val(np.add(m1,m2))"
      ],
      "metadata": {
        "colab": {
          "base_uri": "https://localhost:8080/"
        },
        "id": "EzNMteVi4L75",
        "outputId": "367738da-a757-47e4-c674-1a3b8d0509da"
      },
      "execution_count": null,
      "outputs": [
        {
          "output_type": "stream",
          "name": "stdout",
          "text": [
            "Type: <class 'numpy.ndarray'>\n",
            "Shape: (2, 2)\n",
            "값:\n",
            " [[ 6.  8.]\n",
            " [10. 12.]]\n",
            " \n",
            "Type: <class 'numpy.ndarray'>\n",
            "Shape: (2, 2)\n",
            "값:\n",
            " [[ 6.  8.]\n",
            " [10. 12.]]\n",
            " \n"
          ]
        }
      ]
    },
    {
      "cell_type": "code",
      "source": [
        "print_val(m1-m2)\n",
        "print_val(np.subtract(m1,m2))"
      ],
      "metadata": {
        "colab": {
          "base_uri": "https://localhost:8080/"
        },
        "id": "yWn-0U6J4ZPi",
        "outputId": "82b30775-993e-4f8c-88f2-78aa92a7a6b4"
      },
      "execution_count": null,
      "outputs": [
        {
          "output_type": "stream",
          "name": "stdout",
          "text": [
            "Type: <class 'numpy.ndarray'>\n",
            "Shape: (2, 2)\n",
            "값:\n",
            " [[-4. -4.]\n",
            " [-4. -4.]]\n",
            " \n",
            "Type: <class 'numpy.ndarray'>\n",
            "Shape: (2, 2)\n",
            "값:\n",
            " [[-4. -4.]\n",
            " [-4. -4.]]\n",
            " \n"
          ]
        }
      ]
    },
    {
      "cell_type": "code",
      "source": [
        "print_val(m1*m2)\n",
        "print_val(np.multiply(m1,m2))"
      ],
      "metadata": {
        "colab": {
          "base_uri": "https://localhost:8080/"
        },
        "id": "nVa4MGlY4mKa",
        "outputId": "f405566d-0260-4e85-ff41-207436935477"
      },
      "execution_count": null,
      "outputs": [
        {
          "output_type": "stream",
          "name": "stdout",
          "text": [
            "Type: <class 'numpy.ndarray'>\n",
            "Shape: (2, 2)\n",
            "값:\n",
            " [[ 5. 12.]\n",
            " [21. 32.]]\n",
            " \n",
            "Type: <class 'numpy.ndarray'>\n",
            "Shape: (2, 2)\n",
            "값:\n",
            " [[ 5. 12.]\n",
            " [21. 32.]]\n",
            " \n"
          ]
        }
      ]
    },
    {
      "cell_type": "code",
      "source": [
        "print_val(m1/m2)\n",
        "print_val(np.divide(m1,m2))"
      ],
      "metadata": {
        "colab": {
          "base_uri": "https://localhost:8080/"
        },
        "id": "xuecmcjX4vZW",
        "outputId": "e4612625-8627-40a5-cbd2-30418392bd2e"
      },
      "execution_count": null,
      "outputs": [
        {
          "output_type": "stream",
          "name": "stdout",
          "text": [
            "Type: <class 'numpy.ndarray'>\n",
            "Shape: (2, 2)\n",
            "값:\n",
            " [[0.2        0.33333333]\n",
            " [0.42857143 0.5       ]]\n",
            " \n",
            "Type: <class 'numpy.ndarray'>\n",
            "Shape: (2, 2)\n",
            "값:\n",
            " [[0.2        0.33333333]\n",
            " [0.42857143 0.5       ]]\n",
            " \n"
          ]
        }
      ]
    },
    {
      "cell_type": "code",
      "source": [
        "print_val(np.sqrt(m1))"
      ],
      "metadata": {
        "colab": {
          "base_uri": "https://localhost:8080/"
        },
        "id": "7VYNDlWs4_lm",
        "outputId": "d7702c68-8f73-43e7-da43-cec864380357"
      },
      "execution_count": null,
      "outputs": [
        {
          "output_type": "stream",
          "name": "stdout",
          "text": [
            "Type: <class 'numpy.ndarray'>\n",
            "Shape: (2, 2)\n",
            "값:\n",
            " [[1.         1.41421356]\n",
            " [1.73205081 2.        ]]\n",
            " \n"
          ]
        }
      ]
    },
    {
      "cell_type": "code",
      "source": [
        "m1 = np.array([[1,2],[3,4]])\n",
        "m2 = np.array([[5,6],[7,8]])\n",
        "v1 = np.array([9,10])\n",
        "v2 = np.array([11,12])"
      ],
      "metadata": {
        "id": "pQoK-aaV5Epm"
      },
      "execution_count": null,
      "outputs": []
    },
    {
      "cell_type": "code",
      "source": [
        "print_val(m1)\n",
        "print_val(m2)\n",
        "print_val(v1)\n",
        "print_val(v2)"
      ],
      "metadata": {
        "colab": {
          "base_uri": "https://localhost:8080/"
        },
        "id": "2s16akaU5gFG",
        "outputId": "e940c8da-c670-4f4c-f2c6-3eb521207491"
      },
      "execution_count": null,
      "outputs": [
        {
          "output_type": "stream",
          "name": "stdout",
          "text": [
            "Type: <class 'numpy.ndarray'>\n",
            "Shape: (2, 2)\n",
            "값:\n",
            " [[1 2]\n",
            " [3 4]]\n",
            " \n",
            "Type: <class 'numpy.ndarray'>\n",
            "Shape: (2, 2)\n",
            "값:\n",
            " [[5 6]\n",
            " [7 8]]\n",
            " \n",
            "Type: <class 'numpy.ndarray'>\n",
            "Shape: (2,)\n",
            "값:\n",
            " [ 9 10]\n",
            " \n",
            "Type: <class 'numpy.ndarray'>\n",
            "Shape: (2,)\n",
            "값:\n",
            " [11 12]\n",
            " \n"
          ]
        }
      ]
    },
    {
      "cell_type": "code",
      "source": [
        "print_val(v1.dot(v2))\n",
        "print_val(np.dot(v1,v2))"
      ],
      "metadata": {
        "colab": {
          "base_uri": "https://localhost:8080/"
        },
        "id": "8ABWPyM15qEg",
        "outputId": "fb0e1722-5f13-438e-f7ff-9b0f7effc63d"
      },
      "execution_count": null,
      "outputs": [
        {
          "output_type": "stream",
          "name": "stdout",
          "text": [
            "Type: <class 'numpy.int64'>\n",
            "Shape: ()\n",
            "값:\n",
            " 219\n",
            " \n",
            "Type: <class 'numpy.int64'>\n",
            "Shape: ()\n",
            "값:\n",
            " 219\n",
            " \n"
          ]
        }
      ]
    },
    {
      "cell_type": "code",
      "source": [
        "print_val(m1.dot(v1))\n",
        "print_val(np.dot(m1,v1))"
      ],
      "metadata": {
        "colab": {
          "base_uri": "https://localhost:8080/"
        },
        "id": "EiXF3URm5zRt",
        "outputId": "f7861ca0-9411-4076-d054-7566173c6f42"
      },
      "execution_count": null,
      "outputs": [
        {
          "output_type": "stream",
          "name": "stdout",
          "text": [
            "Type: <class 'numpy.ndarray'>\n",
            "Shape: (2,)\n",
            "값:\n",
            " [29 67]\n",
            " \n",
            "Type: <class 'numpy.ndarray'>\n",
            "Shape: (2,)\n",
            "값:\n",
            " [29 67]\n",
            " \n"
          ]
        }
      ]
    },
    {
      "cell_type": "code",
      "source": [
        "print_val(m1.dot(m2))\n",
        "print_val(np.dot(m1,m2))"
      ],
      "metadata": {
        "colab": {
          "base_uri": "https://localhost:8080/"
        },
        "id": "ole_SvmO56yj",
        "outputId": "6fe804c1-84f7-4701-e5d4-b11316a3b7e2"
      },
      "execution_count": null,
      "outputs": [
        {
          "output_type": "stream",
          "name": "stdout",
          "text": [
            "Type: <class 'numpy.ndarray'>\n",
            "Shape: (2, 2)\n",
            "값:\n",
            " [[19 22]\n",
            " [43 50]]\n",
            " \n",
            "Type: <class 'numpy.ndarray'>\n",
            "Shape: (2, 2)\n",
            "값:\n",
            " [[19 22]\n",
            " [43 50]]\n",
            " \n"
          ]
        }
      ]
    },
    {
      "cell_type": "code",
      "source": [
        "print_val(m1)\n",
        "print_val(m1.T)"
      ],
      "metadata": {
        "colab": {
          "base_uri": "https://localhost:8080/"
        },
        "id": "nmDIdND96C28",
        "outputId": "261075f0-d14b-401a-f60b-655617211ef6"
      },
      "execution_count": null,
      "outputs": [
        {
          "output_type": "stream",
          "name": "stdout",
          "text": [
            "Type: <class 'numpy.ndarray'>\n",
            "Shape: (2, 2)\n",
            "값:\n",
            " [[1 2]\n",
            " [3 4]]\n",
            " \n",
            "Type: <class 'numpy.ndarray'>\n",
            "Shape: (2, 2)\n",
            "값:\n",
            " [[1 3]\n",
            " [2 4]]\n",
            " \n"
          ]
        }
      ]
    },
    {
      "cell_type": "code",
      "source": [
        "print_val(np.sum(m1))\n",
        "print_val(np.sum(m1,axis=0))\n",
        "print_val(np.sum(m1,axis=1))"
      ],
      "metadata": {
        "colab": {
          "base_uri": "https://localhost:8080/"
        },
        "id": "e6HmboG56IZM",
        "outputId": "57a55f48-a2d1-4378-9919-e7336301919c"
      },
      "execution_count": null,
      "outputs": [
        {
          "output_type": "stream",
          "name": "stdout",
          "text": [
            "Type: <class 'numpy.int64'>\n",
            "Shape: ()\n",
            "값:\n",
            " 10\n",
            " \n",
            "Type: <class 'numpy.ndarray'>\n",
            "Shape: (2,)\n",
            "값:\n",
            " [4 6]\n",
            " \n",
            "Type: <class 'numpy.ndarray'>\n",
            "Shape: (2,)\n",
            "값:\n",
            " [3 7]\n",
            " \n"
          ]
        }
      ]
    },
    {
      "cell_type": "code",
      "source": [
        "m1 = np.array([[1,2,3],[4,5,6]])\n",
        "print (m1)\n",
        "print (m1.shape)"
      ],
      "metadata": {
        "colab": {
          "base_uri": "https://localhost:8080/"
        },
        "id": "K56xVDLr6VUS",
        "outputId": "28708f49-96ad-47d4-ea7b-1d34fa6e3be1"
      },
      "execution_count": null,
      "outputs": [
        {
          "output_type": "stream",
          "name": "stdout",
          "text": [
            "[[1 2 3]\n",
            " [4 5 6]]\n",
            "(2, 3)\n"
          ]
        }
      ]
    },
    {
      "cell_type": "code",
      "source": [
        "print (np.sum(m1))\n",
        "print (np.sum(m1,axis=0))\n",
        "print (np.sum(m1,axis=1))"
      ],
      "metadata": {
        "colab": {
          "base_uri": "https://localhost:8080/"
        },
        "id": "rT7EtADD6o5x",
        "outputId": "1afca8cd-8542-4a2f-8186-17d0fec0559c"
      },
      "execution_count": null,
      "outputs": [
        {
          "output_type": "stream",
          "name": "stdout",
          "text": [
            "21\n",
            "[5 7 9]\n",
            "[ 6 15]\n"
          ]
        }
      ]
    },
    {
      "cell_type": "code",
      "source": [
        "m1 = np.array([[1,2,3],\n",
        "               [4,5,6],\n",
        "               [7,8,9],\n",
        "               [10,11,12]])\n",
        "m2 = np.zeros_like(m1)\n",
        "print_val(m1)\n",
        "print_val(m2)"
      ],
      "metadata": {
        "colab": {
          "base_uri": "https://localhost:8080/"
        },
        "id": "P0kQmnSK7C1j",
        "outputId": "7dde73f2-c689-4686-941d-731b58821f2c"
      },
      "execution_count": null,
      "outputs": [
        {
          "output_type": "stream",
          "name": "stdout",
          "text": [
            "Type: <class 'numpy.ndarray'>\n",
            "Shape: (4, 3)\n",
            "값:\n",
            " [[ 1  2  3]\n",
            " [ 4  5  6]\n",
            " [ 7  8  9]\n",
            " [10 11 12]]\n",
            " \n",
            "Type: <class 'numpy.ndarray'>\n",
            "Shape: (4, 3)\n",
            "값:\n",
            " [[0 0 0]\n",
            " [0 0 0]\n",
            " [0 0 0]\n",
            " [0 0 0]]\n",
            " \n"
          ]
        }
      ]
    },
    {
      "cell_type": "code",
      "source": [
        "import matplotlib.pyplot as plt\n",
        "%matplotlib inline"
      ],
      "metadata": {
        "id": "yVSdmjFE7WUr"
      },
      "execution_count": null,
      "outputs": []
    },
    {
      "cell_type": "code",
      "source": [
        "x = np.arange(0,10,0.1)\n",
        "y = np.sin(x)"
      ],
      "metadata": {
        "colab": {
          "base_uri": "https://localhost:8080/",
          "height": 282
        },
        "id": "aJLmydm77hE1",
        "outputId": "6a69bd1e-9b56-4823-c8a8-5658c579279b"
      },
      "execution_count": null,
      "outputs": [
        {
          "output_type": "execute_result",
          "data": {
            "text/plain": [
              "[<matplotlib.lines.Line2D at 0x7fe9b90b0070>]"
            ]
          },
          "metadata": {},
          "execution_count": 43
        },
        {
          "output_type": "display_data",
          "data": {
            "text/plain": [
              "<Figure size 432x288 with 1 Axes>"
            ],
            "image/png": "[encoded data removed]"
          },
          "metadata": {
            "needs_background": "light"
          }
        }
      ]
    },
    {
      "cell_type": "code",
      "source": [
        "plt.plot(x,y)"
      ],
      "metadata": {
        "colab": {
          "base_uri": "https://localhost:8080/",
          "height": 282
        },
        "id": "Jb4Br1xc8LeJ",
        "outputId": "f06dfa29-2ac6-4a75-99e9-ca577603874d"
      },
      "execution_count": null,
      "outputs": [
        {
          "output_type": "execute_result",
          "data": {
            "text/plain": [
              "[<matplotlib.lines.Line2D at 0x7fe9b63d6e80>]"
            ]
          },
          "metadata": {},
          "execution_count": 45
        },
        {
          "output_type": "display_data",
          "data": {
            "text/plain": [
              "<Figure size 432x288 with 1 Axes>"
            ],
            "image/png": "[encoded data removed]"
          },
          "metadata": {
            "needs_background": "light"
          }
        }
      ]
    },
    {
      "cell_type": "code",
      "source": [
        "y_sin=np.sin(x)\n",
        "y_cos = np.cos(x)"
      ],
      "metadata": {
        "id": "lZk4mpa08P6Q"
      },
      "execution_count": null,
      "outputs": []
    },
    {
      "cell_type": "code",
      "source": [
        "plt.plot(x,y_sin)\n",
        "plt.plot(x,y_cos)\n",
        "plt.xlabel('x axis label')\n",
        "plt.ylabel('y axis label')\n",
        "plt.title('sin and cos')\n",
        "plt.legend(['sin','cos'])"
      ],
      "metadata": {
        "colab": {
          "base_uri": "https://localhost:8080/",
          "height": 312
        },
        "id": "fvM0DtZA8Xov",
        "outputId": "591545a4-23f2-4ccf-ed6c-bcce62984d3d"
      },
      "execution_count": null,
      "outputs": [
        {
          "output_type": "execute_result",
          "data": {
            "text/plain": [
              "<matplotlib.legend.Legend at 0x7fe9b647d220>"
            ]
          },
          "metadata": {},
          "execution_count": 49
        },
        {
          "output_type": "display_data",
          "data": {
            "text/plain": [
              "<Figure size 432x288 with 1 Axes>"
            ],
            "image/png": "[encoded data removed]"
          },
          "metadata": {
            "needs_background": "light"
          }
        }
      ]
    },
    {
      "cell_type": "code",
      "source": [
        "plt.subplot(2,1,1)\n",
        "plt.plot(x,y_sin)\n",
        "plt.title('sin')"
      ],
      "metadata": {
        "colab": {
          "base_uri": "https://localhost:8080/",
          "height": 180
        },
        "id": "nH9nByL1-1nN",
        "outputId": "8ef5ded1-eb09-4f72-c5dc-cca39ffe9722"
      },
      "execution_count": null,
      "outputs": [
        {
          "output_type": "execute_result",
          "data": {
            "text/plain": [
              "Text(0.5, 1.0, 'sin')"
            ]
          },
          "metadata": {},
          "execution_count": 50
        },
        {
          "output_type": "display_data",
          "data": {
            "text/plain": [
              "<Figure size 432x288 with 1 Axes>"
            ],
            "image/png": "[encoded data removed]"
          },
          "metadata": {
            "needs_background": "light"
          }
        }
      ]
    },
    {
      "cell_type": "code",
      "source": [
        "plt.subplot(2,1,2)\n",
        "plt.plot(x,y_cos)\n",
        "plt.title('cos')"
      ],
      "metadata": {
        "colab": {
          "base_uri": "https://localhost:8080/",
          "height": 180
        },
        "id": "mpkjocl__ADb",
        "outputId": "1d2c2c23-d4e0-48c0-d867-06eb6be7a86b"
      },
      "execution_count": null,
      "outputs": [
        {
          "output_type": "execute_result",
          "data": {
            "text/plain": [
              "Text(0.5, 1.0, 'cos')"
            ]
          },
          "metadata": {},
          "execution_count": 51
        },
        {
          "output_type": "display_data",
          "data": {
            "text/plain": [
              "<Figure size 432x288 with 1 Axes>"
            ],
            "image/png": "[encoded data removed]"
          },
          "metadata": {
            "needs_background": "light"
          }
        }
      ]
    },
    {
      "cell_type": "code",
      "source": [
        "plt.show()"
      ],
      "metadata": {
        "id": "pzBMnobo_N7Y"
      },
      "execution_count": null,
      "outputs": []
    }
  ]
}